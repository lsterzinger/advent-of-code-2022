{
 "cells": [
  {
   "cell_type": "code",
   "execution_count": 4,
   "metadata": {},
   "outputs": [],
   "source": [
    "with open('input.dat', 'r') as f:\n",
    "    lines = [l.strip() for l in f.readlines()]"
   ]
  },
  {
   "cell_type": "code",
   "execution_count": 28,
   "metadata": {},
   "outputs": [],
   "source": [
    "# R P S\n",
    "# A B C\n",
    "# X Y Z\n",
    "\n",
    "win = {\n",
    "    'X' : 'C',\n",
    "    'Y' : 'A',\n",
    "    'Z' : 'B'\n",
    "}\n",
    "\n",
    "pointvals = {\n",
    "    'X' : 1,\n",
    "    'Y' : 2,\n",
    "    'Z' : 3\n",
    "}\n",
    "\n",
    "translate = {\n",
    "    'A' : 'X',\n",
    "    'B' : 'Y',\n",
    "    'C' : 'Z'\n",
    "}"
   ]
  },
  {
   "cell_type": "code",
   "execution_count": 33,
   "metadata": {},
   "outputs": [],
   "source": [
    "def points_part1(lines):\n",
    "    points = 0\n",
    "    for l in lines:\n",
    "        a,b = l.split(' ')\n",
    "        points += pointvals[b]\n",
    "        if win[b] == a: points += 6\n",
    "        elif translate[a] == b: points += 3\n",
    "    return points"
   ]
  },
  {
   "cell_type": "code",
   "execution_count": 34,
   "metadata": {},
   "outputs": [
    {
     "name": "stdout",
     "output_type": "stream",
     "text": [
      "13052\n"
     ]
    }
   ],
   "source": [
    "print(points_part1(lines))"
   ]
  },
  {
   "cell_type": "code",
   "execution_count": null,
   "metadata": {},
   "outputs": [],
   "source": [
    "def point_part2(lines):\n",
    "    points = 0\n",
    "    for l in lines:\n",
    "        a,b, = l.split(' ')\n",
    "        "
   ]
  }
 ],
 "metadata": {
  "kernelspec": {
   "display_name": "Python 3.10.6 ('base')",
   "language": "python",
   "name": "python3"
  },
  "language_info": {
   "codemirror_mode": {
    "name": "ipython",
    "version": 3
   },
   "file_extension": ".py",
   "mimetype": "text/x-python",
   "name": "python",
   "nbconvert_exporter": "python",
   "pygments_lexer": "ipython3",
   "version": "3.10.8 | packaged by conda-forge | (main, Nov 22 2022, 08:26:04) [GCC 10.4.0]"
  },
  "orig_nbformat": 4,
  "vscode": {
   "interpreter": {
    "hash": "05433d7b83977bc5ec5e9747aceb2c65589097dab2f4d6ce0d915c759ad4dab5"
   }
  }
 },
 "nbformat": 4,
 "nbformat_minor": 2
}
